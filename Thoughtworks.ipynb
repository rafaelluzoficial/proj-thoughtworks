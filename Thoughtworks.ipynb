{
 "cells": [
  {
   "cell_type": "code",
   "execution_count": 153,
   "id": "34dfd271",
   "metadata": {},
   "outputs": [],
   "source": [
    "import findspark\n",
    "findspark.init()\n",
    "import pyspark\n",
    "from pyspark.sql import SparkSession\n",
    "from pyspark.sql.types import *\n",
    "from pyspark.sql import functions as F"
   ]
  },
  {
   "cell_type": "code",
   "execution_count": 154,
   "id": "d827707e",
   "metadata": {},
   "outputs": [],
   "source": [
    "spark = SparkSession.builder.appName(\"toughtworks\").getOrCreate()"
   ]
  },
  {
   "cell_type": "code",
   "execution_count": 155,
   "id": "08400df4",
   "metadata": {},
   "outputs": [],
   "source": [
    "path_dataset = '/home/rafael/PycharmProjects/dataengineer/output/cbike/parquet/'"
   ]
  },
  {
   "cell_type": "code",
   "execution_count": 158,
   "id": "e580b835",
   "metadata": {},
   "outputs": [
    {
     "name": "stdout",
     "output_type": "stream",
     "text": [
      "+------------+-------------------+-------------------+----------------+--------------------+----------------------+-----------------------+--------------+--------------------+--------------------+---------------------+------+----------+----------+------+\n",
      "|tripduration|          starttime|           stoptime|start_station_id|  start_station_name|start_station_latitude|start_station_longitude|end_station_id|    end_station_name|end_station_latitude|end_station_longitude|bikeid|  usertype|birth_year|gender|\n",
      "+------------+-------------------+-------------------+----------------+--------------------+----------------------+-----------------------+--------------+--------------------+--------------------+---------------------+------+----------+----------+------+\n",
      "|         364|2017-07-01 00:00:00|2017-07-01 00:06:05|             539|Metropolitan Ave ...|           40.71534825|           -73.96024116|          3107|Bedford Ave & Nas...|         40.72311651|         -73.95212324| 14744|Subscriber|      1986|     1|\n",
      "|        2142|2017-07-01 00:00:03|2017-07-01 00:35:46|             293|Lafayette St & E ...|     40.73020660529954|     -73.99102628231049|          3425|   2 Ave  & E 104 St|          40.7892105|         -73.94370784| 19587|Subscriber|      1981|     1|\n",
      "|         328|2017-07-01 00:00:08|2017-07-01 00:05:37|            3242|Schermerhorn St &...|     40.69102925677968|     -73.99183362722397|          3397|Court St & Nelson St|          40.6763947|         -73.99869893| 27937|Subscriber|      1984|     2|\n",
      "|        2530|2017-07-01 00:00:11|2017-07-01 00:42:22|            2002|Wythe Ave & Metro...|             40.716887|             -73.963198|           398|Atlantic Ave & Fu...|         40.69165183|          -73.9999786| 26066|Subscriber|      1985|     1|\n",
      "|        2534|2017-07-01 00:00:15|2017-07-01 00:42:29|            2002|Wythe Ave & Metro...|             40.716887|             -73.963198|           398|Atlantic Ave & Fu...|         40.69165183|          -73.9999786| 29408|Subscriber|      1982|     2|\n",
      "+------------+-------------------+-------------------+----------------+--------------------+----------------------+-----------------------+--------------+--------------------+--------------------+---------------------+------+----------+----------+------+\n",
      "only showing top 5 rows\n",
      "\n"
     ]
    }
   ],
   "source": [
    "df = spark.read.load(path_dataset, header=True, sep=',', format='parquet', inferSchema=True)\n",
    "df.show(5)"
   ]
  },
  {
   "cell_type": "code",
   "execution_count": 159,
   "id": "1d03eb91",
   "metadata": {},
   "outputs": [
    {
     "name": "stdout",
     "output_type": "stream",
     "text": [
      "+------+----------------------+-----------------------+--------------------+---------------------+\n",
      "|bikeid|start_station_latitude|start_station_longitude|end_station_latitude|end_station_longitude|\n",
      "+------+----------------------+-----------------------+--------------------+---------------------+\n",
      "| 14744|           40.71534825|           -73.96024116|         40.72311651|         -73.95212324|\n",
      "| 19587|     40.73020660529954|     -73.99102628231049|          40.7892105|         -73.94370784|\n",
      "| 27937|     40.69102925677968|     -73.99183362722397|          40.6763947|         -73.99869893|\n",
      "| 26066|             40.716887|             -73.963198|         40.69165183|          -73.9999786|\n",
      "| 29408|             40.716887|             -73.963198|         40.69165183|          -73.9999786|\n",
      "+------+----------------------+-----------------------+--------------------+---------------------+\n",
      "only showing top 5 rows\n",
      "\n"
     ]
    }
   ],
   "source": [
    "df_reduced = df.select('bikeid', 'start_station_latitude', 'start_station_longitude', 'end_station_latitude', 'end_station_longitude')\n",
    "df_reduced.show(5)"
   ]
  },
  {
   "cell_type": "code",
   "execution_count": 160,
   "id": "a59599c6",
   "metadata": {
    "scrolled": true
   },
   "outputs": [
    {
     "name": "stdout",
     "output_type": "stream",
     "text": [
      "+------+----------------------+-----------------------+--------------------+---------------------+--------------------+------------------+\n",
      "|bikeid|start_station_latitude|start_station_longitude|end_station_latitude|end_station_longitude|           haversine|          distance|\n",
      "+------+----------------------+-----------------------+--------------------+---------------------+--------------------+------------------+\n",
      "| 14744|           40.71534825|           -73.96024116|         40.72311651|         -73.95212324|7.478474833864554E-9| 684.6917578845256|\n",
      "| 19587|     40.73020660529954|     -73.99102628231049|          40.7892105|         -73.94370784|3.629574502486697E-7| 4769.978979112423|\n",
      "| 27937|     40.69102925677968|     -73.99183362722397|          40.6763947|         -73.99869893|1.837404049958562E-8|1073.2253372467278|\n",
      "| 26066|             40.716887|             -73.963198|         40.69165183|          -73.9999786|1.077025866238007...| 2598.373963247495|\n",
      "| 29408|             40.716887|             -73.963198|         40.69165183|          -73.9999786|1.077025866238007...| 2598.373963247495|\n",
      "+------+----------------------+-----------------------+--------------------+---------------------+--------------------+------------------+\n",
      "only showing top 5 rows\n",
      "\n"
     ]
    }
   ],
   "source": [
    "df_transformed = df_reduced.withColumn(\"haversine\", (\n",
    "        F.pow(F.sin(F.radians(F.col(\"end_station_latitude\") - F.col(\"start_station_latitude\")) / 2), 2) +\n",
    "        F.cos(F.radians(F.col(\"start_station_latitude\"))) * F.cos(F.radians(F.col(\"end_station_latitude\"))) *\n",
    "        F.pow(F.sin(F.radians(F.col(\"end_station_longitude\") - F.col(\"start_station_longitude\")) / 2), 2)\n",
    "    )).withColumn(\"distance\", (F.atan2(F.sqrt(F.col(\"haversine\")), F.sqrt(-F.col(\"haversine\") + 1)) * 12742000) * 0.621371)\n",
    "df_transformed.show(5)"
   ]
  },
  {
   "cell_type": "code",
   "execution_count": 163,
   "id": "dd240656",
   "metadata": {
    "scrolled": true
   },
   "outputs": [
    {
     "name": "stdout",
     "output_type": "stream",
     "text": [
      "+------+-----------------+------------------+-----------+------------+------------------+\n",
      "|bikeid|          Lat_Ini|           Lon_Ini|    Lat_Fin|     Lon_Fin|      distance_mil|\n",
      "+------+-----------------+------------------+-----------+------------+------------------+\n",
      "| 14744|      40.71534825|      -73.96024116|40.72311651|-73.95212324| 684.6917578845256|\n",
      "| 19587|40.73020660529954|-73.99102628231049| 40.7892105|-73.94370784| 4769.978979112423|\n",
      "| 27937|40.69102925677968|-73.99183362722397| 40.6763947|-73.99869893|1073.2253372467278|\n",
      "| 26066|        40.716887|        -73.963198|40.69165183| -73.9999786| 2598.373963247495|\n",
      "| 29408|        40.716887|        -73.963198|40.69165183| -73.9999786| 2598.373963247495|\n",
      "+------+-----------------+------------------+-----------+------------+------------------+\n",
      "only showing top 5 rows\n",
      "\n"
     ]
    }
   ],
   "source": [
    "df_transformed = df_transformed.withColumnRenamed('start_station_latitude', 'Lat_Ini')\n",
    "df_transformed = df_transformed.withColumnRenamed('start_station_longitude', 'Lon_Ini')\n",
    "df_transformed = df_transformed.withColumnRenamed('end_station_latitude', 'Lat_Fin')\n",
    "df_transformed = df_transformed.withColumnRenamed('end_station_longitude', 'Lon_Fin')\n",
    "df_transformed = df_transformed.withColumnRenamed('distance', 'distance_mil')\n",
    "df_transformed = df_transformed.select('bikeid', 'Lat_Ini', 'Lon_Ini', 'Lat_Fin', 'Lon_Fin', 'distance_mil')\n",
    "df_transformed.show(5)"
   ]
  },
  {
   "cell_type": "code",
   "execution_count": 165,
   "id": "6b0cdf81",
   "metadata": {},
   "outputs": [],
   "source": [
    "path_out = '/home/rafael/PycharmProjects/dataengineer/output/cbike/parquet/transformed'\n",
    "df_transformed.write.format('parquet').mode('overwrite').save(path_out)"
   ]
  },
  {
   "cell_type": "code",
   "execution_count": 167,
   "id": "2ef214d3",
   "metadata": {},
   "outputs": [
    {
     "name": "stdout",
     "output_type": "stream",
     "text": [
      "+------+----------------------+--------------------+-----------------------+---------------------+--------------------+------------------+\n",
      "|bikeid|start_station_latitude|end_station_latitude|start_station_longitude|end_station_longitude|           haversine|          distance|\n",
      "+------+----------------------+--------------------+-----------------------+---------------------+--------------------+------------------+\n",
      "| 14744|           40.71534825|         40.72311651|           -73.96024116|         -73.95212324|7.478474833864554E-9| 684.6917578845256|\n",
      "| 19587|     40.73020660529954|          40.7892105|     -73.99102628231049|         -73.94370784|3.629574502486697E-7| 4769.978979112423|\n",
      "| 27937|     40.69102925677968|          40.6763947|     -73.99183362722397|         -73.99869893|1.837404049958562E-8|1073.2253372467278|\n",
      "| 26066|             40.716887|         40.69165183|             -73.963198|          -73.9999786|1.077025866238007...| 2598.373963247495|\n",
      "| 29408|             40.716887|         40.69165183|             -73.963198|          -73.9999786|1.077025866238007...| 2598.373963247495|\n",
      "+------+----------------------+--------------------+-----------------------+---------------------+--------------------+------------------+\n",
      "only showing top 5 rows\n",
      "\n"
     ]
    }
   ],
   "source": [
    "df = spark.read.load(path_out)\n",
    "df.show(5)"
   ]
  }
 ],
 "metadata": {
  "kernelspec": {
   "display_name": "Python 3 (ipykernel)",
   "language": "python",
   "name": "python3"
  },
  "language_info": {
   "codemirror_mode": {
    "name": "ipython",
    "version": 3
   },
   "file_extension": ".py",
   "mimetype": "text/x-python",
   "name": "python",
   "nbconvert_exporter": "python",
   "pygments_lexer": "ipython3",
   "version": "3.8.10"
  }
 },
 "nbformat": 4,
 "nbformat_minor": 5
}
